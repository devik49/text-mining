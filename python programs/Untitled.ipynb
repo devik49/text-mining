{
 "cells": [
  {
   "cell_type": "code",
   "execution_count": null,
   "id": "d7aa64af",
   "metadata": {},
   "outputs": [],
   "source": []
  },
  {
   "cell_type": "code",
   "execution_count": 13,
   "id": "bc9935e4",
   "metadata": {},
   "outputs": [
    {
     "data": {
      "text/plain": [
       "4321"
      ]
     },
     "execution_count": 13,
     "metadata": {},
     "output_type": "execute_result"
    }
   ],
   "source": [
    "num = 1234\n",
    "reversed_str = str(num)[::-1]\n",
    "int(reversed_str)"
   ]
  },
  {
   "cell_type": "code",
   "execution_count": 15,
   "id": "320790ee",
   "metadata": {},
   "outputs": [
    {
     "data": {
      "text/plain": [
       "'akived'"
      ]
     },
     "execution_count": 15,
     "metadata": {},
     "output_type": "execute_result"
    }
   ],
   "source": [
    "num ='devika'\n",
    "reversed_str = num[::-1]\n",
    "reversed_str"
   ]
  },
  {
   "cell_type": "code",
   "execution_count": 4,
   "id": "2f20f69a",
   "metadata": {},
   "outputs": [
    {
     "data": {
      "text/plain": [
       "{1, 2, 3, 4}"
      ]
     },
     "execution_count": 4,
     "metadata": {},
     "output_type": "execute_result"
    }
   ],
   "source": [
    "num =1,2,3,2,3,4\n",
    "set(num)"
   ]
  },
  {
   "cell_type": "code",
   "execution_count": 24,
   "id": "d1e123e4",
   "metadata": {},
   "outputs": [
    {
     "data": {
      "text/plain": [
       "[4, 3, 2, 1]"
      ]
     },
     "execution_count": 24,
     "metadata": {},
     "output_type": "execute_result"
    }
   ],
   "source": [
    "num= [1,2,3,4]\n",
    "rev =num[::-1]\n",
    "rev"
   ]
  },
  {
   "cell_type": "code",
   "execution_count": 15,
   "id": "629042c9",
   "metadata": {},
   "outputs": [
    {
     "name": "stdout",
     "output_type": "stream",
     "text": [
      "please give a number : 101\n",
      "given number is prime\n"
     ]
    }
   ],
   "source": [
    "n = int(input(\"please give a number : \"))\n",
    "temp=0,\n",
    "for i in range(2,n//2):\n",
    "    if n%i == 0:\n",
    "        temp=1\n",
    "        break\n",
    "        \n",
    "if temp == 1:\n",
    "    print(\"given number is not prime\")\n",
    "else:\n",
    "    print(\"given number is prime\") "
   ]
  },
  {
   "cell_type": "code",
   "execution_count": 16,
   "id": "fd8b40cd",
   "metadata": {},
   "outputs": [
    {
     "name": "stdout",
     "output_type": "stream",
     "text": [
      "number is prime no:\n"
     ]
    }
   ],
   "source": [
    "num = 101\n",
    "\n",
    "flag = False\n",
    "\n",
    "if num <= 1:\n",
    "    print(\"number is not a prime nos\")\n",
    "elif num >1:\n",
    "    for i in range(2,num):\n",
    "        if num % i==0:\n",
    "            flag = True\n",
    "            break;\n",
    "            \n",
    "    if flag:\n",
    "        print(\"number is not a prime no:\")\n",
    "    else:\n",
    "        print(\"number is prime no:\")"
   ]
  },
  {
   "cell_type": "code",
   "execution_count": 18,
   "id": "b56dddc2",
   "metadata": {},
   "outputs": [
    {
     "name": "stdout",
     "output_type": "stream",
     "text": [
      "153\n"
     ]
    }
   ],
   "source": [
    "a = 1*1*1+5*5*5+3*3*3 \n",
    "print(a)"
   ]
  },
  {
   "cell_type": "code",
   "execution_count": 40,
   "id": "e2eca0a7",
   "metadata": {},
   "outputs": [
    {
     "name": "stdout",
     "output_type": "stream",
     "text": [
      "number is armstrong number\n"
     ]
    }
   ],
   "source": [
    "num = 9474\n",
    "\n",
    "if num<=9:\n",
    "    print(\"number is armstrong number\")\n",
    "else:\n",
    "    order = len(str(num))\n",
    "    sum = 0 \n",
    "    original = num\n",
    "    while num>0:\n",
    "        digit = num % 10\n",
    "        sum += digit ** order\n",
    "        num = num//10\n",
    "    \n",
    "    if sum == original:    \n",
    "        print(\"number is armstrong number\")\n",
    "    else:\n",
    "        print(\"number is not armstrong number\")\n",
    "    "
   ]
  },
  {
   "cell_type": "code",
   "execution_count": 43,
   "id": "70d1116f",
   "metadata": {},
   "outputs": [
    {
     "data": {
      "text/plain": [
       "120"
      ]
     },
     "execution_count": 43,
     "metadata": {},
     "output_type": "execute_result"
    }
   ],
   "source": [
    "def factorial(n):\n",
    "    if n==0 or n==1:\n",
    "        return 1\n",
    "    else:\n",
    "        return n * factorial(n-1)\n",
    "    \n",
    "factorial(5)\n"
   ]
  },
  {
   "cell_type": "code",
   "execution_count": 11,
   "id": "48075886",
   "metadata": {},
   "outputs": [
    {
     "name": "stdout",
     "output_type": "stream",
     "text": [
      "palindrome\n"
     ]
    }
   ],
   "source": [
    "str = 'mom'\n",
    "rev = str[::-1]\n",
    "if str == rev:\n",
    "    print(\"palindrome\")\n",
    "else:\n",
    "    print(\"not palindrome\")"
   ]
  },
  {
   "cell_type": "code",
   "execution_count": 21,
   "id": "689cf6d3",
   "metadata": {},
   "outputs": [
    {
     "name": "stdout",
     "output_type": "stream",
     "text": [
      "[0, 1, 1, 2, 3]\n"
     ]
    }
   ],
   "source": [
    "#011235\n",
    "num = 5\n",
    "f1=0\n",
    "f2=1\n",
    "f = [f1,f2]\n",
    "for i in range(2,num):\n",
    "    f3 = f1+f2\n",
    "    f.append(f3)\n",
    "    f1 = f2\n",
    "    f2 = f3\n",
    "print(f)\n"
   ]
  },
  {
   "cell_type": "code",
   "execution_count": 20,
   "id": "11c31bdb",
   "metadata": {},
   "outputs": [
    {
     "name": "stdout",
     "output_type": "stream",
     "text": [
      "[0, 1, 1, 2, 3]\n"
     ]
    }
   ],
   "source": [
    "num = 5\n",
    "f1 = 0\n",
    "f2 = 1\n",
    "f = [f1, f2]  # Initialize the list with the first two Fibonacci numbers\n",
    "\n",
    "for i in range(2, num):\n",
    "    f3 = f1 + f2\n",
    "    f.append(f3)\n",
    "    f1 = f2\n",
    "    f2 = f3\n",
    "\n",
    "print(f)\n"
   ]
  },
  {
   "cell_type": "code",
   "execution_count": 28,
   "id": "b966dccb",
   "metadata": {},
   "outputs": [
    {
     "data": {
      "text/plain": [
       "4"
      ]
     },
     "execution_count": 28,
     "metadata": {},
     "output_type": "execute_result"
    }
   ],
   "source": [
    "lt = [1,2,3,3,4,5]\n",
    "set_lt = set(lt)\n",
    "del_max = max(set_lt)\n",
    "set_lt.remove(del_max)\n",
    "max(set_lt)"
   ]
  },
  {
   "cell_type": "code",
   "execution_count": null,
   "id": "29e4b2e3",
   "metadata": {},
   "outputs": [],
   "source": []
  }
 ],
 "metadata": {
  "kernelspec": {
   "display_name": "Python 3 (ipykernel)",
   "language": "python",
   "name": "python3"
  },
  "language_info": {
   "codemirror_mode": {
    "name": "ipython",
    "version": 3
   },
   "file_extension": ".py",
   "mimetype": "text/x-python",
   "name": "python",
   "nbconvert_exporter": "python",
   "pygments_lexer": "ipython3",
   "version": "3.9.12"
  }
 },
 "nbformat": 4,
 "nbformat_minor": 5
}
