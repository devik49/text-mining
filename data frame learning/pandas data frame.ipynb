{
 "cells": [
  {
   "cell_type": "code",
   "execution_count": 1,
   "id": "974ee364",
   "metadata": {},
   "outputs": [],
   "source": [
    "import pandas as pd\n",
    "\n",
    "# Creating a data frame from a dictionary\n",
    "df = pd.DataFrame({'Name': ['John', 'Mary', 'David', 'Sarah'],\n",
    "                   'Age': [28, 25, 32, 27],\n",
    "                   'City': ['New York', 'Chicago', 'Los Angeles', 'Boston']})\n"
   ]
  },
  {
   "cell_type": "code",
   "execution_count": 3,
   "id": "3ad3c66c",
   "metadata": {},
   "outputs": [
    {
     "name": "stdout",
     "output_type": "stream",
     "text": [
      "    Name  Age         City\n",
      "0   John   28     New York\n",
      "1   Mary   25      Chicago\n",
      "2  David   32  Los Angeles\n",
      "3  Sarah   27       Boston\n",
      "--------------------------------------------------------------------------\n",
      "\n",
      "    Name  Age         City\n",
      "0   John   28     New York\n",
      "1   Mary   25      Chicago\n",
      "2  David   32  Los Angeles\n",
      "3  Sarah   27       Boston\n",
      "--------------------------------------------------------------------------\n",
      "\n",
      "<class 'pandas.core.frame.DataFrame'>\n",
      "RangeIndex: 4 entries, 0 to 3\n",
      "Data columns (total 3 columns):\n",
      " #   Column  Non-Null Count  Dtype \n",
      "---  ------  --------------  ----- \n",
      " 0   Name    4 non-null      object\n",
      " 1   Age     4 non-null      int64 \n",
      " 2   City    4 non-null      object\n",
      "dtypes: int64(1), object(2)\n",
      "memory usage: 224.0+ bytes\n",
      "None\n",
      "--------------------------------------------------------------------------\n",
      "\n"
     ]
    }
   ],
   "source": [
    "# Viewing the first 5 rows of the data frame\n",
    "print(df.head())\n",
    "print(\"--------------------------------------------------------------------------\\n\")\n",
    "# Viewing the last 5 rows of the data frame\n",
    "print(df.tail())\n",
    "print(\"--------------------------------------------------------------------------\\n\")\n",
    "# Getting an overview of the data frame\n",
    "print(df.info())\n",
    "print(\"--------------------------------------------------------------------------\\n\")"
   ]
  },
  {
   "cell_type": "code",
   "execution_count": 4,
   "id": "5bcf8cdf",
   "metadata": {},
   "outputs": [
    {
     "name": "stdout",
     "output_type": "stream",
     "text": [
      "0     John\n",
      "1     Mary\n",
      "2    David\n",
      "3    Sarah\n",
      "Name: Name, dtype: object\n",
      "--------------------------------------------------------------------------\n",
      "\n",
      "    Name         City\n",
      "0   John     New York\n",
      "1   Mary      Chicago\n",
      "2  David  Los Angeles\n",
      "3  Sarah       Boston\n",
      "--------------------------------------------------------------------------\n",
      "\n",
      "0     John\n",
      "1     Mary\n",
      "2    David\n",
      "3    Sarah\n",
      "Name: Name, dtype: object\n",
      "--------------------------------------------------------------------------\n",
      "\n",
      "    Name         City\n",
      "0   John     New York\n",
      "1   Mary      Chicago\n",
      "2  David  Los Angeles\n",
      "3  Sarah       Boston\n",
      "--------------------------------------------------------------------------\n",
      "\n"
     ]
    }
   ],
   "source": [
    "# Selecting the 'Name' column\n",
    "print(df['Name'])\n",
    "print(\"--------------------------------------------------------------------------\\n\")\n",
    "# Selecting multiple columns\n",
    "print(df[['Name', 'City']])\n",
    "print(\"--------------------------------------------------------------------------\\n\")\n",
    "# Using loc function\n",
    "print(df.loc[:, 'Name'])\n",
    "print(\"--------------------------------------------------------------------------\\n\")\n",
    "# Using iloc function\n",
    "print(df.iloc[:, [0, 2]])\n",
    "print(\"--------------------------------------------------------------------------\\n\")"
   ]
  },
  {
   "cell_type": "code",
   "execution_count": 5,
   "id": "41524748",
   "metadata": {},
   "outputs": [
    {
     "name": "stdout",
     "output_type": "stream",
     "text": [
      "    Name  Age         City\n",
      "0   John   28     New York\n",
      "2  David   32  Los Angeles\n",
      "3  Sarah   27       Boston\n",
      "--------------------------------------------------------------------------\n",
      "\n",
      "    Name  Age         City\n",
      "0   John   28     New York\n",
      "2  David   32  Los Angeles\n",
      "3  Sarah   27       Boston\n"
     ]
    }
   ],
   "source": [
    "# Filtering rows based on age\n",
    "print(df[df['Age'] > 26])\n",
    "print(\"--------------------------------------------------------------------------\\n\")\n",
    "# Using query function\n",
    "print(df.query(\"Age > 26\"))\n"
   ]
  },
  {
   "cell_type": "code",
   "execution_count": 6,
   "id": "4b3ad680",
   "metadata": {},
   "outputs": [
    {
     "name": "stdout",
     "output_type": "stream",
     "text": [
      "    Name  Age         City\n",
      "1   Mary   25      Chicago\n",
      "3  Sarah   27       Boston\n",
      "0   John   28     New York\n",
      "2  David   32  Los Angeles\n",
      "--------------------------------------------------------------------------\n",
      "\n",
      "    Name  Age         City\n",
      "2  David   32  Los Angeles\n",
      "0   John   28     New York\n",
      "3  Sarah   27       Boston\n",
      "1   Mary   25      Chicago\n",
      "--------------------------------------------------------------------------\n",
      "\n"
     ]
    }
   ],
   "source": [
    "# Sorting by age in ascending order\n",
    "print(df.sort_values('Age'))\n",
    "print(\"--------------------------------------------------------------------------\\n\")\n",
    "# Sorting by age in descending order\n",
    "print(df.sort_values('Age', ascending=False))\n",
    "print(\"--------------------------------------------------------------------------\\n\")"
   ]
  },
  {
   "cell_type": "code",
   "execution_count": 7,
   "id": "a363027e",
   "metadata": {},
   "outputs": [
    {
     "name": "stdout",
     "output_type": "stream",
     "text": [
      "City\n",
      "Boston         27.0\n",
      "Chicago        25.0\n",
      "Los Angeles    32.0\n",
      "New York       28.0\n",
      "Name: Age, dtype: float64\n",
      "--------------------------------------------------------------------------\n",
      "\n",
      "City\n",
      "Boston         1\n",
      "Chicago        1\n",
      "Los Angeles    1\n",
      "New York       1\n",
      "Name: Name, dtype: int64\n"
     ]
    }
   ],
   "source": [
    "# Grouping by city and finding the mean age\n",
    "print(df.groupby('City')['Age'].mean())\n",
    "print(\"--------------------------------------------------------------------------\\n\")\n",
    "# Grouping by city and finding the number of people in each city\n",
    "print(df.groupby('City')['Name'].count())\n"
   ]
  },
  {
   "cell_type": "code",
   "execution_count": 11,
   "id": "3d21fa55",
   "metadata": {},
   "outputs": [
    {
     "name": "stdout",
     "output_type": "stream",
     "text": [
      "    Name  Age         City\n",
      "0   John   28     New York\n",
      "1   Mary   25      Chicago\n",
      "2  David   32  Los Angeles\n",
      "3  Sarah   27       Boston\n",
      "--------------------------------------------------------------------------\n",
      "\n",
      "    Name  Age         City\n",
      "0   John   28     New York\n",
      "1   Mary   25      Chicago\n",
      "2  David   32  Los Angeles\n",
      "3  Sarah   27       Boston\n",
      "--------------------------------------------------------------------------\n",
      "\n"
     ]
    }
   ],
   "source": [
    "# Creating two data frames\n",
    "df1 = pd.DataFrame({'Name': ['John', 'Mary', 'David', 'Sarah'],\n",
    "                    'Age': [28, 25, 32, 27]})\n",
    "\n",
    "df2 = pd.DataFrame({'Name': ['John', 'Mary', 'David', 'Sarah'],\n",
    "                    'City': ['New York', 'Chicago', 'Los Angeles', 'Boston']})\n",
    "\n",
    "# Merging the two data frames on 'Name' column\n",
    "merged_df = pd.merge(df1, df2, on='Name')\n",
    "print(merged_df)\n",
    "print(\"--------------------------------------------------------------------------\\n\")\n",
    "# Joining the two data frames on 'Name' column\n",
    "joined_df = df1.join(df2.set_index('Name'), on='Name')\n",
    "print(joined_df)\n",
    "print(\"--------------------------------------------------------------------------\\n\")"
   ]
  },
  {
   "cell_type": "code",
   "execution_count": null,
   "id": "667b1266",
   "metadata": {},
   "outputs": [],
   "source": [
    "# Dropping rows with missing values\n",
    "print(df.dropna())\n",
    "\n",
    "# Filling missing values with a specific value\n",
    "print(df.fillna(value=0))\n",
    "\n",
    "# Interpolating missing values\n",
    "print(df.interpolate())\n"
   ]
  },
  {
   "cell_type": "code",
   "execution_count": 17,
   "id": "043e54c5",
   "metadata": {},
   "outputs": [
    {
     "name": "stdout",
     "output_type": "stream",
     "text": [
      "City   Boston  Chicago  Los Angeles  New York\n",
      "Name                                         \n",
      "David     NaN      NaN         32.0       NaN\n",
      "John      NaN      NaN          NaN      28.0\n",
      "Mary      NaN     25.0          NaN       NaN\n",
      "Sarah    27.0      NaN          NaN       NaN\n",
      "--------------------------------------------------------------------------\n",
      "\n",
      "    Name variable        value\n",
      "0   John      Age           28\n",
      "1   Mary      Age           25\n",
      "2  David      Age           32\n",
      "3  Sarah      Age           27\n",
      "4   John     City     New York\n",
      "5   Mary     City      Chicago\n",
      "6  David     City  Los Angeles\n",
      "7  Sarah     City       Boston\n",
      "--------------------------------------------------------------------------\n",
      "\n",
      "    Name         City level_2   0\n",
      "0   John     New York     Age  28\n",
      "1   Mary      Chicago     Age  25\n",
      "2  David  Los Angeles     Age  32\n",
      "3  Sarah       Boston     Age  27\n",
      "--------------------------------------------------------------------------\n",
      "\n"
     ]
    }
   ],
   "source": [
    "# Reshaping using pivot function\n",
    "df_pivot = df.pivot(index='Name', columns='City', values='Age')\n",
    "print(df_pivot)\n",
    "print(\"--------------------------------------------------------------------------\\n\")\n",
    "# Reshaping using melt function\n",
    "df_melt = pd.melt(df, id_vars=['Name'], value_vars=['Age', 'City'])\n",
    "print(df_melt)\n",
    "print(\"--------------------------------------------------------------------------\\n\")\n",
    "# Reshaping using stack function\n",
    "df_stacked = df.set_index(['Name', 'City']).stack().reset_index()\n",
    "print(df_stacked)\n",
    "print(\"--------------------------------------------------------------------------\\n\")"
   ]
  },
  {
   "cell_type": "code",
   "execution_count": 23,
   "id": "91b3a2d4",
   "metadata": {},
   "outputs": [
    {
     "name": "stdout",
     "output_type": "stream",
     "text": [
      "0    38\n",
      "1    35\n",
      "2    42\n",
      "3    37\n",
      "Name: Age in 10 years, dtype: int64\n",
      "--------------------------------------------------------------------------\n",
      "\n",
      "Age                7\n",
      "Age in 10 years    7\n",
      "dtype: int64\n",
      "--------------------------------------------------------------------------\n",
      "\n",
      "0     Hello John\n",
      "1     Hello Mary\n",
      "2    Hello David\n",
      "3    Hello Sarah\n",
      "Name: Greeting, dtype: object\n"
     ]
    }
   ],
   "source": [
    "# Applying a function to a column\n",
    "df['Age in 10 years'] = df['Age'].apply(lambda x: x+10)\n",
    "print(df['Age in 10 years'])\n",
    "print(\"--------------------------------------------------------------------------\\n\")\n",
    "# Applying a function to multiple columns\n",
    "dt = df[['Age', 'Age in 10 years']].apply(lambda x: x.max() - x.min())\n",
    "print(dt)\n",
    "print(\"--------------------------------------------------------------------------\\n\")\n",
    "# Applying a user-defined function to a column\n",
    "def add_hello(name):\n",
    "    return 'Hello ' + name\n",
    "\n",
    "df['Greeting'] = df['Name'].apply(add_hello)\n",
    "print(df['Greeting'])"
   ]
  },
  {
   "cell_type": "code",
   "execution_count": null,
   "id": "1299d400",
   "metadata": {},
   "outputs": [],
   "source": []
  },
  {
   "cell_type": "code",
   "execution_count": null,
   "id": "b78e4b36",
   "metadata": {},
   "outputs": [],
   "source": []
  },
  {
   "cell_type": "code",
   "execution_count": null,
   "id": "42f3c59e",
   "metadata": {},
   "outputs": [],
   "source": []
  },
  {
   "cell_type": "code",
   "execution_count": null,
   "id": "de68aafb",
   "metadata": {},
   "outputs": [],
   "source": []
  },
  {
   "cell_type": "code",
   "execution_count": null,
   "id": "25919b06",
   "metadata": {},
   "outputs": [],
   "source": []
  },
  {
   "cell_type": "code",
   "execution_count": null,
   "id": "b47766ce",
   "metadata": {},
   "outputs": [],
   "source": []
  }
 ],
 "metadata": {
  "kernelspec": {
   "display_name": "Python 3 (ipykernel)",
   "language": "python",
   "name": "python3"
  },
  "language_info": {
   "codemirror_mode": {
    "name": "ipython",
    "version": 3
   },
   "file_extension": ".py",
   "mimetype": "text/x-python",
   "name": "python",
   "nbconvert_exporter": "python",
   "pygments_lexer": "ipython3",
   "version": "3.9.12"
  }
 },
 "nbformat": 4,
 "nbformat_minor": 5
}
